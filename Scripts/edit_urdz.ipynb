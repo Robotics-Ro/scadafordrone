{
 "cells": [
  {
   "cell_type": "code",
   "execution_count": 1,
   "id": "5a9111ad",
   "metadata": {},
   "outputs": [
    {
     "name": "stdout",
     "output_type": "stream",
     "text": [
      "Successfully opened Dji_Tello.usdz. Manipulating geometry...\n"
     ]
    },
    {
     "ename": "AttributeError",
     "evalue": "module 'pxr.Tf' has no attribute 'Token'",
     "output_type": "error",
     "traceback": [
      "\u001b[0;31m---------------------------------------------------------------------------\u001b[0m",
      "\u001b[0;31mAttributeError\u001b[0m                            Traceback (most recent call last)",
      "Cell \u001b[0;32mIn[1], line 45\u001b[0m\n\u001b[1;32m     42\u001b[0m output_file_name \u001b[38;5;241m=\u001b[39m \u001b[38;5;124m\"\u001b[39m\u001b[38;5;124mDji_Tello_manipulated.usdz\u001b[39m\u001b[38;5;124m\"\u001b[39m\n\u001b[1;32m     44\u001b[0m \u001b[38;5;28;01mif\u001b[39;00m os\u001b[38;5;241m.\u001b[39mpath\u001b[38;5;241m.\u001b[39mexists(input_file_name):\n\u001b[0;32m---> 45\u001b[0m     \u001b[43mmanipulate_usdz_model\u001b[49m\u001b[43m(\u001b[49m\u001b[43minput_file_name\u001b[49m\u001b[43m,\u001b[49m\u001b[43m \u001b[49m\u001b[43moutput_file_name\u001b[49m\u001b[43m)\u001b[49m\n\u001b[1;32m     46\u001b[0m \u001b[38;5;28;01melse\u001b[39;00m:\n\u001b[1;32m     47\u001b[0m     \u001b[38;5;28mprint\u001b[39m(\u001b[38;5;124mf\u001b[39m\u001b[38;5;124m\"\u001b[39m\u001b[38;5;124mError: Input file \u001b[39m\u001b[38;5;132;01m{\u001b[39;00minput_file_name\u001b[38;5;132;01m}\u001b[39;00m\u001b[38;5;124m not found.\u001b[39m\u001b[38;5;124m\"\u001b[39m)\n",
      "Cell \u001b[0;32mIn[1], line 23\u001b[0m, in \u001b[0;36mmanipulate_usdz_model\u001b[0;34m(input_file, output_file)\u001b[0m\n\u001b[1;32m     20\u001b[0m xform\u001b[38;5;241m.\u001b[39mClearXformOpOrder()\n\u001b[1;32m     22\u001b[0m \u001b[38;5;66;03m# Z축으로 10단위 이동 오퍼레이션 추가\u001b[39;00m\n\u001b[0;32m---> 23\u001b[0m translate_op \u001b[38;5;241m=\u001b[39m xform\u001b[38;5;241m.\u001b[39mAddTranslateOp(opSuffix\u001b[38;5;241m=\u001b[39m\u001b[43mTf\u001b[49m\u001b[38;5;241;43m.\u001b[39;49m\u001b[43mToken\u001b[49m(\u001b[38;5;124m\"\u001b[39m\u001b[38;5;124mtranslate_op\u001b[39m\u001b[38;5;124m\"\u001b[39m))\n\u001b[1;32m     24\u001b[0m translate_op\u001b[38;5;241m.\u001b[39mSet(Gf\u001b[38;5;241m.\u001b[39mVec3d(\u001b[38;5;241m0.0\u001b[39m, \u001b[38;5;241m0.0\u001b[39m, \u001b[38;5;241m10.0\u001b[39m))\n\u001b[1;32m     26\u001b[0m \u001b[38;5;66;03m# X축으로 45도 회전 오퍼레이션 추가\u001b[39;00m\n",
      "\u001b[0;31mAttributeError\u001b[0m: module 'pxr.Tf' has no attribute 'Token'"
     ]
    }
   ],
   "source": [
    "import os\n",
    "from pxr import Usd, UsdGeom, Gf, Tf\n",
    "\n",
    "def manipulate_usdz_model(input_file, output_file):\n",
    "    try:\n",
    "        stage = Usd.Stage.Open(input_file)\n",
    "        if not stage:\n",
    "            print(f\"Error: Could not open {input_file}\")\n",
    "            return\n",
    "    except Exception as e:\n",
    "        print(f\"Failed to open USDZ file: {e}\")\n",
    "        return\n",
    "\n",
    "    print(f\"Successfully opened {input_file}. Manipulating geometry...\")\n",
    "\n",
    "    for prim in stage.Traverse():\n",
    "        if prim.IsA(UsdGeom.Xformable):\n",
    "            xform = UsdGeom.Xformable(prim)\n",
    "            \n",
    "            xform.ClearXformOpOrder()\n",
    "\n",
    "            # Z축으로 10단위 이동 오퍼레이션 추가\n",
    "            translate_op = xform.AddTranslateOp(opSuffix=Tf.Token(\"translate_op\"))\n",
    "            translate_op.Set(Gf.Vec3d(0.0, 0.0, 10.0))\n",
    "\n",
    "            # X축으로 45도 회전 오퍼레이션 추가\n",
    "            rotate_op = xform.AddRotateXOp(opSuffix=Tf.Token(\"rotate_op\"))\n",
    "            rotate_op.Set(45.0)\n",
    "\n",
    "            # 모든 축으로 2배 스케일링 오퍼레이션 추가\n",
    "            scale_op = xform.AddScaleOp(opSuffix=Tf.Token(\"scale_op\"))\n",
    "            scale_op.Set(Gf.Vec3d(2.0, 2.0, 2.0))\n",
    "\n",
    "    try:\n",
    "        stage.SaveAs(output_file)\n",
    "        print(f\"Successfully saved manipulated model to {output_file}\")\n",
    "    except Exception as e:\n",
    "        print(f\"Failed to save USDZ file: {e}\")\n",
    "\n",
    "if __name__ == '__main__':\n",
    "    input_file_name = \"Dji_Tello.usdz\"\n",
    "    output_file_name = \"Dji_Tello_manipulated.usdz\"\n",
    "    \n",
    "    if os.path.exists(input_file_name):\n",
    "        manipulate_usdz_model(input_file_name, output_file_name)\n",
    "    else:\n",
    "        print(f\"Error: Input file {input_file_name} not found.\")"
   ]
  }
 ],
 "metadata": {
  "kernelspec": {
   "display_name": "usd_edit64 (3.10.18)",
   "language": "python",
   "name": "python3"
  },
  "language_info": {
   "codemirror_mode": {
    "name": "ipython",
    "version": 3
   },
   "file_extension": ".py",
   "mimetype": "text/x-python",
   "name": "python",
   "nbconvert_exporter": "python",
   "pygments_lexer": "ipython3",
   "version": "3.10.18"
  }
 },
 "nbformat": 4,
 "nbformat_minor": 5
}
